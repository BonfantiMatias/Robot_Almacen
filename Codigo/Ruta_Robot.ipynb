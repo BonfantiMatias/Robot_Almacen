{
  "nbformat": 4,
  "nbformat_minor": 0,
  "metadata": {
    "colab": {
      "provenance": []
    },
    "kernelspec": {
      "name": "python3",
      "display_name": "Python 3"
    },
    "language_info": {
      "name": "python"
    }
  },
  "cells": [
    {
      "cell_type": "markdown",
      "source": [
        "#Importar Librerias"
      ],
      "metadata": {
        "id": "hZa5chQMRTTz"
      }
    },
    {
      "cell_type": "code",
      "execution_count": 1,
      "metadata": {
        "id": "sQNjg5dbQo-p"
      },
      "outputs": [],
      "source": [
        "import numpy as np"
      ]
    },
    {
      "cell_type": "markdown",
      "source": [
        "#Configuracion de los parametros gamma y alpha para el algoritmo de Q-Learning"
      ],
      "metadata": {
        "id": "UeUkcOMuRBv2"
      }
    },
    {
      "cell_type": "code",
      "source": [
        "gamma = 0.75\n",
        "alpha = 0.9"
      ],
      "metadata": {
        "id": "ibKLCquQQrid"
      },
      "execution_count": 2,
      "outputs": []
    },
    {
      "cell_type": "markdown",
      "source": [
        "#Definicion del Entorno"
      ],
      "metadata": {
        "id": "KwAlmg4lQ29M"
      }
    },
    {
      "cell_type": "markdown",
      "source": [
        "##Definicion de Estados"
      ],
      "metadata": {
        "id": "_cZG3SAuRqd3"
      }
    },
    {
      "cell_type": "code",
      "source": [
        "localizacion_estado = {\"A\": 0,\n",
        "                     \"B\": 1,\n",
        "                     \"C\": 2,\n",
        "                     \"D\": 3,\n",
        "                     \"E\": 4,\n",
        "                     \"F\": 5,\n",
        "                     \"G\": 6,\n",
        "                     \"H\": 7,\n",
        "                     \"I\": 8,\n",
        "                     \"J\": 9,\n",
        "                     \"K\": 10,\n",
        "                     \"L\": 11}\n"
      ],
      "metadata": {
        "id": "p-kkfBY_RuMT"
      },
      "execution_count": 3,
      "outputs": []
    },
    {
      "cell_type": "markdown",
      "source": [
        "##Definicion de Acciones"
      ],
      "metadata": {
        "id": "4ink55HKTStM"
      }
    },
    {
      "cell_type": "code",
      "source": [
        "acciones = [0,1,2,3,4,5,6,7,8,9,10,11]"
      ],
      "metadata": {
        "id": "-N4UIsi-TV0G"
      },
      "execution_count": 4,
      "outputs": []
    },
    {
      "cell_type": "markdown",
      "source": [
        "##Definicion de las recompensas"
      ],
      "metadata": {
        "id": "YrSuUS6DTkev"
      }
    },
    {
      "cell_type": "code",
      "source": [
        "#Columnas      A,B,C,D,E,F,G,H,I,J,K,L\n",
        "R = np.array([[0,1,0,0,0,0,0,0,0,0,0,0], # A\n",
        "              [1,0,1,0,0,1,0,0,0,0,0,0], # B\n",
        "              [0,1,0,0,0,0,1,0,0,0,0,0], # C\n",
        "              [0,0,0,0,0,0,0,1,0,0,0,0], # D\n",
        "              [0,0,0,0,0,0,0,0,1,0,0,0], # E\n",
        "              [0,1,0,0,0,0,0,0,0,1,0,0], # F\n",
        "              [0,0,1,0,0,0,1,1,0,0,0,0], # G\n",
        "              [0,0,0,1,0,0,1,0,0,0,0,1], # H\n",
        "              [0,0,0,0,1,0,0,0,0,1,0,0], # I\n",
        "              [0,0,0,0,0,1,0,0,1,0,1,0], # J\n",
        "              [0,0,0,0,0,0,0,0,0,1,0,1], # K\n",
        "              [0,0,0,0,0,0,0,1,0,0,1,0]])# L\n",
        "     "
      ],
      "metadata": {
        "id": "FLA6hZ9dTpRA"
      },
      "execution_count": 5,
      "outputs": []
    },
    {
      "cell_type": "markdown",
      "source": [
        "#Construccion de la solucion de IA con Q-Learning"
      ],
      "metadata": {
        "id": "FPto8WcWXvSV"
      }
    },
    {
      "cell_type": "markdown",
      "source": [
        "##Transformacion inversa de estados a ubicaciones"
      ],
      "metadata": {
        "id": "YiMaQK8LnETG"
      }
    },
    {
      "cell_type": "code",
      "source": [
        "estado_localizacion = {estado: localizacion for localizacion, estado in localizacion_estado.items()}"
      ],
      "metadata": {
        "id": "q21lzUwWnJKm"
      },
      "execution_count": 6,
      "outputs": []
    },
    {
      "cell_type": "markdown",
      "source": [
        "## Crear la funcion final que nos devuelva la ruta optima"
      ],
      "metadata": {
        "id": "Hq1j6henjXiT"
      }
    },
    {
      "cell_type": "code",
      "source": [
        "\n",
        "def ruta(localizacion_inicial, localizacion_final):\n",
        "    R_new = np.copy(R)\n",
        "    estado_final = localizacion_estado[localizacion_final]\n",
        "    R_new[estado_final, estado_final] = 1000\n",
        "    \n",
        "    Q = np.array(np.zeros([12, 12]))\n",
        "    for i in range(1000):\n",
        "        estado_actual = np.random.randint(0, 12)\n",
        "        movimientos_posibles = []\n",
        "        for j in range(12):\n",
        "            if R_new[estado_actual, j] > 0:\n",
        "                movimientos_posibles.append(j)\n",
        "        siguiente_estado = np.random.choice(movimientos_posibles)\n",
        "        TD = R_new[estado_actual, siguiente_estado] + gamma*Q[siguiente_estado, np.argmax(Q[siguiente_estado,])] - Q[estado_actual, siguiente_estado]\n",
        "        Q[estado_actual, siguiente_estado] = Q[estado_actual, siguiente_estado] + alpha*TD\n",
        "    \n",
        "    route = [localizacion_inicial]\n",
        "    siguiente_localizacion = localizacion_inicial\n",
        "    while(siguiente_localizacion != localizacion_final):\n",
        "        estado_inicial = localizacion_estado[localizacion_inicial]\n",
        "        siguiente_estado = np.argmax(Q[estado_inicial, ])\n",
        "        siguiente_localizacion = estado_localizacion[siguiente_estado]\n",
        "        route.append(siguiente_localizacion)\n",
        "        localizacion_inicial = siguiente_localizacion\n",
        "    return route\n",
        "     \n"
      ],
      "metadata": {
        "id": "5cY_jmGqjfRK"
      },
      "execution_count": 7,
      "outputs": []
    },
    {
      "cell_type": "markdown",
      "source": [
        "# Poner el Modelo en Produccion"
      ],
      "metadata": {
        "id": "2xjyVPaaqqaM"
      }
    },
    {
      "cell_type": "code",
      "source": [
        "def mejor_ruta(localizacion_inicial, localizacion_intermedia, localizacion_final):\n",
        "    return ruta(localizacion_inicial, localizacion_intermedia) + ruta(localizacion_intermedia, localizacion_final)[1:]\n",
        "\n",
        "# Imprimir la ruta final\n",
        "print(\"Ruta Elegida:\")\n",
        "print(mejor_ruta('E', 'A', 'D'))"
      ],
      "metadata": {
        "colab": {
          "base_uri": "https://localhost:8080/"
        },
        "id": "aa7GySksprV1",
        "outputId": "48a0cfd7-92b6-428f-dd2f-aa664b70aaab"
      },
      "execution_count": 10,
      "outputs": [
        {
          "output_type": "stream",
          "name": "stdout",
          "text": [
            "Ruta Elegida:\n",
            "['E', 'I', 'J', 'F', 'B', 'A', 'B', 'C', 'G', 'H', 'D']\n"
          ]
        }
      ]
    }
  ]
}